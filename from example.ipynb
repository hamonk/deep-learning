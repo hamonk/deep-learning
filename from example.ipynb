{
 "cells": [
  {
   "cell_type": "code",
   "execution_count": 1,
   "id": "d8767565",
   "metadata": {},
   "outputs": [
    {
     "name": "stdout",
     "output_type": "stream",
     "text": [
      "Loss 0.00005, L2 distance: |w-w*| = 0.00288, Throughput 1768.02079 (it/s)\n"
     ]
    }
   ],
   "source": [
    "# Copyright © 2023 Apple Inc.\n",
    "\n",
    "import time\n",
    "\n",
    "import mlx.core as mx\n",
    "\n",
    "num_features = 100\n",
    "num_examples = 1_000\n",
    "num_iters = 10_000\n",
    "lr = 0.01\n",
    "\n",
    "# True parameters\n",
    "w_star = mx.random.normal((num_features,))\n",
    "\n",
    "# Input examples (design matrix)\n",
    "X = mx.random.normal((num_examples, num_features))\n",
    "\n",
    "# Noisy labels\n",
    "eps = 1e-2 * mx.random.normal((num_examples,))\n",
    "y = X @ w_star + eps\n",
    "\n",
    "# Initialize random parameters\n",
    "w = 1e-2 * mx.random.normal((num_features,))\n",
    "\n",
    "\n",
    "def loss_fn(w):\n",
    "    return 0.5 * mx.mean(mx.square(X @ w - y))\n",
    "\n",
    "\n",
    "grad_fn = mx.grad(loss_fn)\n",
    "\n",
    "tic = time.time()\n",
    "for _ in range(num_iters):\n",
    "    grad = grad_fn(w)\n",
    "    w = w - lr * grad\n",
    "    mx.eval(w)\n",
    "toc = time.time()\n",
    "\n",
    "loss = loss_fn(w)\n",
    "error_norm = mx.sum(mx.square(w - w_star)).item() ** 0.5\n",
    "throughput = num_iters / (toc - tic)\n",
    "\n",
    "print(\n",
    "    f\"Loss {loss.item():.5f}, L2 distance: |w-w*| = {error_norm:.5f}, \"\n",
    "    f\"Throughput {throughput:.5f} (it/s)\"\n",
    ")"
   ]
  }
 ],
 "metadata": {
  "kernelspec": {
   "display_name": ".venv",
   "language": "python",
   "name": "python3"
  },
  "language_info": {
   "codemirror_mode": {
    "name": "ipython",
    "version": 3
   },
   "file_extension": ".py",
   "mimetype": "text/x-python",
   "name": "python",
   "nbconvert_exporter": "python",
   "pygments_lexer": "ipython3",
   "version": "3.12.6"
  }
 },
 "nbformat": 4,
 "nbformat_minor": 5
}
