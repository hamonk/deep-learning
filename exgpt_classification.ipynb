{
 "cells": [
  {
   "cell_type": "code",
   "execution_count": 1,
   "id": "412ad314",
   "metadata": {},
   "outputs": [
    {
     "ename": "ValueError",
     "evalue": "[value_and_grad] Can't compute the gradient of argument index 0 because the function is called with only 0 positional arguments.",
     "output_type": "error",
     "traceback": [
      "\u001b[31m---------------------------------------------------------------------------\u001b[39m",
      "\u001b[31mValueError\u001b[39m                                Traceback (most recent call last)",
      "\u001b[36mCell\u001b[39m\u001b[36m \u001b[39m\u001b[32mIn[1]\u001b[39m\u001b[32m, line 49\u001b[39m\n\u001b[32m     46\u001b[39m     y_pred = model(X)\n\u001b[32m     47\u001b[39m     \u001b[38;5;28;01mreturn\u001b[39;00m binary_cross_entropy(y_pred, y)\n\u001b[32m---> \u001b[39m\u001b[32m49\u001b[39m loss, grads = \u001b[43mmx\u001b[49m\u001b[43m.\u001b[49m\u001b[43mvalue_and_grad\u001b[49m\u001b[43m(\u001b[49m\u001b[43mloss_fn\u001b[49m\u001b[43m)\u001b[49m\u001b[43m(\u001b[49m\u001b[43m)\u001b[49m\n\u001b[32m     50\u001b[39m optimizer.update(model, grads)\n\u001b[32m     52\u001b[39m \u001b[38;5;28;01mif\u001b[39;00m epoch % \u001b[32m10\u001b[39m == \u001b[32m0\u001b[39m:\n",
      "\u001b[31mValueError\u001b[39m: [value_and_grad] Can't compute the gradient of argument index 0 because the function is called with only 0 positional arguments."
     ]
    }
   ],
   "source": [
    "import mlx.core as mx\n",
    "import mlx.nn as nn\n",
    "import mlx.optimizers as optim\n",
    "import numpy as np\n",
    "import matplotlib.pyplot as plt\n",
    "\n",
    "# 1. Generate toy dataset\n",
    "def generate_data(n=1000):\n",
    "    np.random.seed(42)\n",
    "    x0 = np.random.randn(n // 2, 2) * 0.5 + np.array([1, 1])\n",
    "    x1 = np.random.randn(n // 2, 2) * 0.5 + np.array([-1, -1])\n",
    "    X = np.vstack([x0, x1])\n",
    "    y = np.array([0] * (n // 2) + [1] * (n // 2)).reshape(-1, 1)\n",
    "    return X, y\n",
    "\n",
    "X_np, y_np = generate_data()\n",
    "X = mx.array(X_np.astype(np.float32))\n",
    "y = mx.array(y_np.astype(np.float32))\n",
    "\n",
    "# 2. Define model\n",
    "class BinaryClassifier(nn.Module):\n",
    "    def __init__(self):\n",
    "        super().__init__()\n",
    "        self.net = nn.Sequential(\n",
    "            nn.Linear(2, 8),\n",
    "            nn.ReLU(),\n",
    "            nn.Linear(8, 1),\n",
    "            nn.Sigmoid(),\n",
    "        )\n",
    "\n",
    "    def __call__(self, x):\n",
    "        return self.net(x)\n",
    "\n",
    "model = BinaryClassifier()\n",
    "optimizer = optim.SGD(learning_rate=0.1)\n",
    "\n",
    "# 3. Loss function: Binary Cross Entropy\n",
    "def binary_cross_entropy(pred, target):\n",
    "    eps = 1e-7\n",
    "    pred = mx.clip(pred, eps, 1 - eps)\n",
    "    return -(target * mx.log(pred) + (1 - target) * mx.log(1 - pred)).mean()\n",
    "\n",
    "# 4. Training loop\n",
    "for epoch in range(100):\n",
    "    def loss_fn():\n",
    "        y_pred = model(X)\n",
    "        return binary_cross_entropy(y_pred, y)\n",
    "\n",
    "    loss, grads = mx.value_and_grad(loss_fn)()\n",
    "    optimizer.update(model, grads)\n",
    "\n",
    "    if epoch % 10 == 0:\n",
    "        print(f\"Epoch {epoch}, Loss: {loss.item():.4f}\")\n",
    "\n",
    "# 5. Plot decision boundary\n",
    "xx, yy = np.meshgrid(np.linspace(-3, 3, 200), np.linspace(-3, 3, 200))\n",
    "grid = np.c_[xx.ravel(), yy.ravel()]\n",
    "grid_mx = mx.array(grid.astype(np.float32))\n",
    "probs = model(grid_mx).numpy().reshape(xx.shape)\n",
    "\n",
    "plt.contourf(xx, yy, probs, levels=[0, 0.5, 1], alpha=0.3)\n",
    "plt.scatter(X_np[:, 0], X_np[:, 1], c=y_np[:, 0], cmap=\"bwr\", edgecolor=\"k\")\n",
    "plt.title(\"Decision Boundary\")\n",
    "plt.xlabel(\"x\")\n",
    "plt.ylabel(\"y\")\n",
    "plt.show()\n"
   ]
  }
 ],
 "metadata": {
  "kernelspec": {
   "display_name": ".venv",
   "language": "python",
   "name": "python3"
  },
  "language_info": {
   "codemirror_mode": {
    "name": "ipython",
    "version": 3
   },
   "file_extension": ".py",
   "mimetype": "text/x-python",
   "name": "python",
   "nbconvert_exporter": "python",
   "pygments_lexer": "ipython3",
   "version": "3.12.6"
  }
 },
 "nbformat": 4,
 "nbformat_minor": 5
}
