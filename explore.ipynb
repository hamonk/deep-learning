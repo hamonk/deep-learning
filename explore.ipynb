{
 "cells": [
  {
   "cell_type": "code",
   "execution_count": null,
   "metadata": {},
   "outputs": [],
   "source": [
    "import time\n",
    "from functools import partial\n",
    "\n",
    "import mlx.core as mx\n",
    "import mlx.nn as nn\n",
    "import mlx.optimizers as optim\n",
    "import numpy as np\n",
    "import matplotlib.pyplot as plt\n",
    "import seaborn as sns\n",
    "\n",
    "import mnist"
   ]
  },
  {
   "cell_type": "code",
   "execution_count": 4,
   "metadata": {},
   "outputs": [
    {
     "name": "stdout",
     "output_type": "stream",
     "text": [
      "Makefile        README.md       \u001b[34mtest_labels\u001b[m\u001b[m     \u001b[34mtraining_labels\u001b[m\u001b[m\n",
      "mnist.pkl       \u001b[34mtest_images\u001b[m\u001b[m     \u001b[34mtraining_images\u001b[m\u001b[m\n"
     ]
    }
   ],
   "source": [
    "!ls ~/Projects/data/mnist/"
   ]
  },
  {
   "cell_type": "code",
   "execution_count": 6,
   "metadata": {},
   "outputs": [
    {
     "name": "stdout",
     "output_type": "stream",
     "text": [
      "save_file: /Users/ireriarreola/Projects/data/mnist/mnist.pkl\n",
      "load pickle from /Users/ireriarreola/Projects/data/mnist/mnist.pkl\n"
     ]
    }
   ],
   "source": [
    "train_images, train_labels, test_images, test_labels = map(\n",
    "        mx.array, getattr(mnist, \"mnist\")()\n",
    "    )"
   ]
  },
  {
   "cell_type": "code",
   "execution_count": 8,
   "metadata": {},
   "outputs": [
    {
     "data": {
      "text/plain": [
       "(60000, 784)"
      ]
     },
     "execution_count": 8,
     "metadata": {},
     "output_type": "execute_result"
    }
   ],
   "source": [
    "train_images.shape"
   ]
  },
  {
   "cell_type": "code",
   "execution_count": 119,
   "metadata": {},
   "outputs": [
    {
     "data": {
      "image/png": "[encoded data removed]",
      "text/plain": [
       "<Figure size 640x480 with 1 Axes>"
      ]
     },
     "metadata": {},
     "output_type": "display_data"
    }
   ],
   "source": [
    "mlx_img = train_images[1,:].reshape(28,28)\n",
    "np_img = np.array(mlx_img)\n",
    "plt.imshow(np_img)\n",
    "plt.axis('off')\n",
    "plt.show()"
   ]
  },
  {
   "cell_type": "code",
   "execution_count": 22,
   "metadata": {},
   "outputs": [
    {
     "data": {
      "text/plain": [
       "array([5, 0, 4, ..., 5, 6, 8], dtype=uint32)"
      ]
     },
     "execution_count": 22,
     "metadata": {},
     "output_type": "execute_result"
    }
   ],
   "source": [
    "train_labels"
   ]
  },
  {
   "cell_type": "code",
   "execution_count": 98,
   "metadata": {},
   "outputs": [],
   "source": [
    "class MLP(nn.Module):\n",
    "    \"\"\"A simple MLP.\"\"\"\n",
    "\n",
    "    def __init__(\n",
    "        self, num_layers: int, input_dim: int, hidden_dim: int, output_dim: int\n",
    "    ):\n",
    "        super().__init__()\n",
    "        # [784, 32, 32, 10]\n",
    "        layer_sizes = [input_dim] + [hidden_dim] * num_layers + [output_dim]\n",
    "        # zip -> [(784, 32), (32, 32), (32, 10)]\n",
    "        # idim = input dimensions\n",
    "        # odim = output dimensions\n",
    "        self.layers = [\n",
    "            nn.Linear(idim, odim)\n",
    "            for idim, odim in zip(layer_sizes[:-1], layer_sizes[1:])\n",
    "        ]\n",
    "        self.layer_sizes = layer_sizes\n",
    "\n",
    "    def __call__(self, x):\n",
    "        for l in self.layers[:-1]:\n",
    "            # relu(x) = max(x, 0)\n",
    "            x = nn.relu(l(x))\n",
    "        return self.layers[-1](x)\n",
    "\n",
    "\n",
    "def loss_fn(model, X, y):\n",
    "    return nn.losses.cross_entropy(model(X), y, reduction=\"mean\")\n",
    "\n",
    "\n",
    "def batch_iterate(batch_size, X, y):\n",
    "    perm = mx.array(np.random.permutation(y.size))\n",
    "    for s in range(0, y.size, batch_size):\n",
    "        ids = perm[s : s + batch_size]\n",
    "        yield X[ids], y[ids]\n",
    "\n",
    "seed = 0\n",
    "num_layers = 2\n",
    "hidden_dim = 32\n",
    "num_classes = 10\n",
    "batch_size = 256\n",
    "num_epochs = 10\n",
    "learning_rate = 1e-1\n",
    "\n",
    "np.random.seed(seed)"
   ]
  },
  {
   "cell_type": "code",
   "execution_count": 138,
   "metadata": {},
   "outputs": [
    {
     "data": {
      "text/plain": [
       "array([5, 3, 7, ..., 8, 0, 4], dtype=int64)"
      ]
     },
     "execution_count": 138,
     "metadata": {},
     "output_type": "execute_result"
    }
   ],
   "source": [
    "mx.array(np.random.permutation(10))"
   ]
  },
  {
   "cell_type": "code",
   "execution_count": 141,
   "metadata": {},
   "outputs": [
    {
     "name": "stdout",
     "output_type": "stream",
     "text": [
      "0 9\n",
      "10 19\n",
      "20 29\n",
      "30 39\n",
      "40 49\n",
      "50 59\n",
      "60 69\n",
      "70 79\n",
      "80 89\n",
      "90 99\n"
     ]
    }
   ],
   "source": [
    "for x in range(0, 100, 10):\n",
    "    print(x, x+9)"
   ]
  },
  {
   "cell_type": "code",
   "execution_count": 46,
   "metadata": {},
   "outputs": [
    {
     "data": {
      "text/plain": [
       "(60000, 784)"
      ]
     },
     "execution_count": 46,
     "metadata": {},
     "output_type": "execute_result"
    }
   ],
   "source": [
    "train_images.shape"
   ]
  },
  {
   "cell_type": "code",
   "execution_count": 45,
   "metadata": {},
   "outputs": [
    {
     "data": {
      "text/plain": [
       "(2, 784, 32, 10)"
      ]
     },
     "execution_count": 45,
     "metadata": {},
     "output_type": "execute_result"
    }
   ],
   "source": [
    "num_layers, train_images.shape[-1], hidden_dim, num_classes"
   ]
  },
  {
   "cell_type": "code",
   "execution_count": 146,
   "metadata": {},
   "outputs": [
    {
     "name": "stdout",
     "output_type": "stream",
     "text": [
      "Epoch 0: Test accuracy 0.842, Time 0.245 (s)\n",
      "Epoch 1: Test accuracy 0.876, Time 0.237 (s)\n",
      "Epoch 2: Test accuracy 0.921, Time 0.198 (s)\n",
      "Epoch 3: Test accuracy 0.924, Time 0.240 (s)\n",
      "Epoch 4: Test accuracy 0.927, Time 0.301 (s)\n",
      "Epoch 5: Test accuracy 0.938, Time 0.340 (s)\n",
      "Epoch 6: Test accuracy 0.940, Time 0.364 (s)\n",
      "Epoch 7: Test accuracy 0.947, Time 0.294 (s)\n",
      "Epoch 8: Test accuracy 0.950, Time 0.376 (s)\n",
      "Epoch 9: Test accuracy 0.954, Time 0.455 (s)\n"
     ]
    }
   ],
   "source": [
    "model = MLP(num_layers, train_images.shape[-1], hidden_dim, num_classes)\n",
    "mx.eval(model.parameters())\n",
    "\n",
    "optimizer = optim.SGD(learning_rate=learning_rate)\n",
    "loss_and_grad_fn = nn.value_and_grad(model, loss_fn)\n",
    "\n",
    "train_accuracies = []\n",
    "test_accuracies = []\n",
    "\n",
    "@partial(mx.compile, inputs=model.state, outputs=model.state)\n",
    "def step(X, y):\n",
    "    loss, grads = loss_and_grad_fn(model, X, y)\n",
    "    optimizer.update(model, grads)\n",
    "    return loss\n",
    "\n",
    "@partial(mx.compile, inputs=model.state)\n",
    "def eval_fn(X, y):\n",
    "    return mx.mean(mx.argmax(model(X), axis=1) == y)\n",
    "\n",
    "# num_epochs = 10\n",
    "for e in range(num_epochs):\n",
    "    tic = time.perf_counter()\n",
    "    # batch_size = 256\n",
    "    for X, y in batch_iterate(batch_size, train_images, train_labels):\n",
    "        step(X, y)\n",
    "        mx.eval(model.state)\n",
    "\n",
    "    train_accuracy = eval_fn(train_images, train_labels)\n",
    "    train_accuracies.append(train_accuracy.item())\n",
    "\n",
    "    accuracy = eval_fn(test_images, test_labels)\n",
    "    toc = time.perf_counter()\n",
    "    \n",
    "    test_accuracies.append(accuracy.item())\n",
    "    \n",
    "    print(\n",
    "        f\"Epoch {e}: Test accuracy {accuracy.item():.3f},\"\n",
    "        f\" Time {toc - tic:.3f} (s)\"\n",
    "    )"
   ]
  },
  {
   "cell_type": "code",
   "execution_count": 68,
   "metadata": {},
   "outputs": [
    {
     "data": {
      "text/plain": [
       "[784, 32, 32, 10]"
      ]
     },
     "execution_count": 68,
     "metadata": {},
     "output_type": "execute_result"
    }
   ],
   "source": [
    "model.layer_sizes"
   ]
  },
  {
   "cell_type": "code",
   "execution_count": 70,
   "metadata": {},
   "outputs": [
    {
     "data": {
      "text/plain": [
       "[(784, 32), (32, 32), (32, 10)]"
      ]
     },
     "execution_count": 70,
     "metadata": {},
     "output_type": "execute_result"
    }
   ],
   "source": [
    "list(zip(model.layer_sizes[:-1], model.layer_sizes[1:]))"
   ]
  },
  {
   "cell_type": "code",
   "execution_count": 93,
   "metadata": {},
   "outputs": [
    {
     "data": {
      "text/plain": [
       "('weight',\n",
       " array([[0.0040317, 0.0677212, -0.0218915, ..., -0.0177035, -0.0774715, 0.0810578],\n",
       "        [0.0358371, -0.0606839, -0.0456725, ..., -0.0758067, -0.0266498, 0.0612022],\n",
       "        [0.0128565, 0.0716553, 0.0247869, ..., -0.0838521, 0.025385, 0.0280653],\n",
       "        ...,\n",
       "        [0.00132719, 0.0105682, -0.0104325, ..., 0.0955177, -0.0342532, 0.0362648],\n",
       "        [0.0863842, 0.095629, -0.0175843, ..., -0.0897395, 0.0235905, -0.0730311],\n",
       "        [-0.0885102, -0.0950365, 0.0577709, ..., -0.0253269, 0.0285157, -0.0660809]], dtype=float32))"
      ]
     },
     "execution_count": 93,
     "metadata": {},
     "output_type": "execute_result"
    }
   ],
   "source": [
    "w, b = nn.Linear(100, 100).items()\n",
    "w"
   ]
  },
  {
   "cell_type": "code",
   "execution_count": 96,
   "metadata": {},
   "outputs": [
    {
     "data": {
      "image/png": "[encoded data removed]",
      "text/plain": [
       "<Figure size 640x480 with 1 Axes>"
      ]
     },
     "metadata": {},
     "output_type": "display_data"
    }
   ],
   "source": [
    "plt.imshow(np.array(w[1]))\n",
    "plt.axis('off')\n",
    "plt.show()"
   ]
  },
  {
   "cell_type": "code",
   "execution_count": 62,
   "metadata": {},
   "outputs": [
    {
     "data": {
      "text/plain": [
       "<Axes: >"
      ]
     },
     "execution_count": 62,
     "metadata": {},
     "output_type": "execute_result"
    },
    {
     "data": {
      "image/png": "[encoded data removed]",
      "text/plain": [
       "<Figure size 640x480 with 1 Axes>"
      ]
     },
     "metadata": {},
     "output_type": "display_data"
    }
   ],
   "source": [
    "sns.lineplot(train_accuracies, label=\"train\")\n",
    "sns.lineplot(test_accuracies, label=\"test\")"
   ]
  },
  {
   "cell_type": "code",
   "execution_count": 64,
   "metadata": {},
   "outputs": [
    {
     "name": "stdout",
     "output_type": "stream",
     "text": [
      "MLP(\n",
      "  (layers.0): Linear(input_dims=784, output_dims=32, bias=True)\n",
      "  (layers.1): Linear(input_dims=32, output_dims=32, bias=True)\n",
      "  (layers.2): Linear(input_dims=32, output_dims=10, bias=True)\n",
      ")\n"
     ]
    }
   ],
   "source": [
    "print(model)"
   ]
  },
  {
   "cell_type": "code",
   "execution_count": 102,
   "metadata": {},
   "outputs": [
    {
     "data": {
      "text/plain": [
       "array([2.19932, 1.28882, -1.27215, ..., 0.314991, -1.06754, -0.926146], dtype=float32)"
      ]
     },
     "execution_count": 102,
     "metadata": {},
     "output_type": "execute_result"
    }
   ],
   "source": [
    "model(train_images[0,:])"
   ]
  },
  {
   "cell_type": "code",
   "execution_count": 110,
   "metadata": {},
   "outputs": [
    {
     "data": {
      "text/plain": [
       "0.03025054931640625"
      ]
     },
     "execution_count": 110,
     "metadata": {},
     "output_type": "execute_result"
    }
   ],
   "source": [
    "nn.losses.cross_entropy(model(train_images[0,:]), train_labels[0]).item()"
   ]
  },
  {
   "cell_type": "code",
   "execution_count": 118,
   "metadata": {},
   "outputs": [
    {
     "data": {
      "text/plain": [
       "[13.117807388305664,\n",
       " -9.949710845947266,\n",
       " 2.5383663177490234,\n",
       " 0.529938817024231,\n",
       " -8.461225509643555,\n",
       " 3.035489559173584,\n",
       " -0.6043164730072021,\n",
       " -0.4339536130428314,\n",
       " -0.2572488784790039,\n",
       " 1.4295778274536133]"
      ]
     },
     "execution_count": 118,
     "metadata": {},
     "output_type": "execute_result"
    }
   ],
   "source": [
    "model(train_images[1,:]).tolist()"
   ]
  },
  {
   "cell_type": "code",
   "execution_count": 123,
   "metadata": {},
   "outputs": [
    {
     "data": {
      "text/plain": [
       "array(13.1179, dtype=float32)"
      ]
     },
     "execution_count": 123,
     "metadata": {},
     "output_type": "execute_result"
    }
   ],
   "source": [
    "nn.losses.cross_entropy(model(train_images[1,:]), mx.zeros(10))"
   ]
  },
  {
   "cell_type": "code",
   "execution_count": 135,
   "metadata": {},
   "outputs": [
    {
     "data": {
      "text/plain": [
       "8.296966552734375e-05"
      ]
     },
     "execution_count": 135,
     "metadata": {},
     "output_type": "execute_result"
    }
   ],
   "source": [
    "nn.losses.cross_entropy(model(train_images[1,:]), mx.concatenate([mx.ones(1), mx.zeros(9)])).item()"
   ]
  },
  {
   "cell_type": "code",
   "execution_count": 136,
   "metadata": {},
   "outputs": [
    {
     "data": {
      "text/plain": [
       "11.688312530517578"
      ]
     },
     "execution_count": 136,
     "metadata": {},
     "output_type": "execute_result"
    }
   ],
   "source": [
    "nn.losses.cross_entropy(model(train_images[1,:]), mx.concatenate([mx.zeros(9), mx.ones(1)])).item()"
   ]
  }
 ],
 "metadata": {
  "kernelspec": {
   "display_name": ".venv",
   "language": "python",
   "name": "python3"
  },
  "language_info": {
   "codemirror_mode": {
    "name": "ipython",
    "version": 3
   },
   "file_extension": ".py",
   "mimetype": "text/x-python",
   "name": "python",
   "nbconvert_exporter": "python",
   "pygments_lexer": "ipython3",
   "version": "3.12.6"
  }
 },
 "nbformat": 4,
 "nbformat_minor": 2
}
